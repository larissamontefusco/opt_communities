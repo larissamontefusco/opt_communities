{
 "cells": [
  {
   "cell_type": "code",
   "execution_count": null,
   "metadata": {},
   "outputs": [],
   "source": [
    "import numpy as np\n",
    "import pyomo.environ as pe\n",
    "import pyomo.opt\n",
    "import matplotlib.pyplot as plt\n",
    "import matplotlib.ticker as ticker\n",
    "import matplotlib.colors as mcolors\n",
    "from pyomo.util.infeasible import log_infeasible_constraints\n",
    "import os\n",
    "import pandas as pd\n",
    "import dotenv\n",
    "from new_model import DC_Community_Opt"
   ]
  },
  {
   "cell_type": "markdown",
   "metadata": {},
   "source": [
    "# DC Community"
   ]
  },
  {
   "cell_type": "code",
   "execution_count": null,
   "metadata": {},
   "outputs": [],
   "source": [
    "# Set default behaviour\n",
    "default_behaviour = pe.Constraint.Skip"
   ]
  },
  {
   "cell_type": "code",
   "execution_count": null,
   "metadata": {},
   "outputs": [],
   "source": [
    "# Auxiliary function to convert numpy arrays to dictionaries\n",
    "def convert_to_dictionary(a, t_start=0):\n",
    "    temp_dictionary = {}\n",
    "\n",
    "    if len(a.shape) == 3:\n",
    "        for dim0 in np.arange(a.shape[0]):\n",
    "            for dim1 in np.arange(a.shape[1]):\n",
    "                for dim2 in np.arange(a.shape[2]):\n",
    "                    temp_dictionary[(dim0+1, dim1+1, dim2+1+t_start)] = a[dim0, dim1, dim2]\n",
    "    elif len(a.shape) == 2:\n",
    "        for dim0 in np.arange(a.shape[0]):\n",
    "            for dim1 in np.arange(a.shape[1]):\n",
    "                temp_dictionary[(dim0+1, dim1+1+t_start)] = a[dim0, dim1]\n",
    "\n",
    "    else:\n",
    "        for dim0 in np.arange(a.shape[0]):\n",
    "            temp_dictionary[(dim0+1+t_start)] = a[dim0]\n",
    "\n",
    "    return temp_dictionary"
   ]
  },
  {
   "cell_type": "code",
   "execution_count": null,
   "metadata": {},
   "outputs": [],
   "source": [
    "conf = dotenv.dotenv_values()\n",
    "executable = conf[\"PATH_TO_SOLVER\"]"
   ]
  },
  {
   "cell_type": "code",
   "execution_count": null,
   "metadata": {},
   "outputs": [],
   "source": [
    "excel_file = './grid_data_input_file_building_demo.xlsx'\n",
    "dc_community_opt = DC_Community_Opt(excel_file)\n",
    "dc_community_opt.execute(executable)"
   ]
  },
  {
   "cell_type": "code",
   "execution_count": null,
   "metadata": {},
   "outputs": [],
   "source": [
    "def ext_pyomo_vals(vals):\n",
    "    # make a pd.Series from each\n",
    "    s = pd.Series(vals.extract_values(),\n",
    "                  index=vals.extract_values().keys())\n",
    "\n",
    "    # if the series is multi-indexed we need to unstack it...\n",
    "    if type(s.index[0]) == tuple:    # it is multi-indexed\n",
    "        s = s.unstack(level=1)\n",
    "    else:\n",
    "        # force transition from Series -> df\n",
    "        s = pd.DataFrame(s)\n",
    "\n",
    "    return s"
   ]
  },
  {
   "cell_type": "code",
   "execution_count": null,
   "metadata": {},
   "outputs": [],
   "source": [
    "result_genActPower = ext_pyomo_vals(dc_community_opt.model.genActPower)\n",
    "result_genActPower = result_genActPower.T\n",
    "result_genActPower.columns = [\"genActPower\"+ f'{g}' for g in np.arange(1, dc_community_opt.model.gen.last() + 1)]\n",
    "\n",
    "result_genExcPower = ext_pyomo_vals(dc_community_opt.model.genExcPower)\n",
    "result_genExcPower = result_genExcPower.T\n",
    "result_genExcPower.columns = [\"genExcPower\"+ f'{g}' for g in np.arange(1, dc_community_opt.model.gen.last() + 1)]\n",
    "\n",
    "result_pimp= ext_pyomo_vals(dc_community_opt.model.imports)\n",
    "result_pimp.columns = [\"grid_import\"]\n",
    "\n",
    "result_pexp = ext_pyomo_vals(dc_community_opt.model.exports)\n",
    "result_pexp.columns = [\"grid_export\"]\n",
    "\n",
    "result_P_import_relax = ext_pyomo_vals(dc_community_opt.model.P_import_relax)\n",
    "result_P_import_relax.columns = [\"P_import_relax\"]\n",
    "\n",
    "if len(dc_community_opt.model.stor) > 0:\n",
    "    result_storCharge = ext_pyomo_vals(dc_community_opt.model.storCharge)\n",
    "    result_storCharge = result_storCharge.T\n",
    "    result_storCharge.columns = [\"storCharge\"+ f'{s}' for s in np.arange(1, model.stor.last() + 1)]\n",
    "\n",
    "    result_storDischarge = ext_pyomo_vals(dc_community_opt.model.storDischarge)\n",
    "    result_storDischarge = result_storDischarge.T\n",
    "    result_storDischarge.columns = [\"storDischarge\"+ f'{s}' for s in np.arange(1, dc_community_opt.model.stor.last() + 1)]\n",
    "\n",
    "    result_storState = ext_pyomo_vals(dc_community_opt.model.storState)\n",
    "    result_storState = result_storState.T\n",
    "    result_storState.columns = [\"storState\"+ f'{s}' for s in np.arange(1, dc_community_opt.model.stor.last() + 1)]\n",
    "\n",
    "result_v2gCharge = ext_pyomo_vals(dc_community_opt.model.v2gCharge)\n",
    "result_v2gCharge = result_v2gCharge.T\n",
    "result_v2gCharge.columns = [\"v2gCharge\"+ f'{v}' for v in np.arange(1, dc_community_opt.model.v2g.last() + 1)]\n",
    "\n",
    "result_v2gDischarge = ext_pyomo_vals(dc_community_opt.model.v2gDischarge)\n",
    "result_v2gDischarge = result_v2gDischarge.T\n",
    "result_v2gDischarge.columns = [\"v2gDischarge\"+ f'{v}' for v in np.arange(1, dc_community_opt.model.v2g.last() + 1)]\n",
    "\n",
    "result_v2gState = ext_pyomo_vals(dc_community_opt.model.v2gState)\n",
    "result_v2gState = result_v2gState.T\n",
    "result_v2gState.columns = [\"v2gState\"+ f'{v}' for v in np.arange(1, dc_community_opt.model.v2g.last() + 1)]\n",
    "\n",
    "result_loadValues = ext_pyomo_vals(dc_community_opt.model.loadValues)\n",
    "result_loadValues = result_loadValues.T\n",
    "result_loadValues.columns = [\"loadValues\"+ f'{l}' for l in np.arange(1, dc_community_opt.model.loads.last() + 1)]\n",
    "\n",
    "opt_results_df = pd.DataFrame()\n",
    "opt_results_df = pd.concat([result_genActPower, result_genExcPower, \n",
    "                            result_pimp, result_pexp, result_P_import_relax,\n",
    "                            result_loadValues,\n",
    "                            #result_storCharge, result_storDischarge,\n",
    "                            #result_storState, result_v2gCharge, \n",
    "                            result_v2gDischarge, result_v2gState\n",
    "                            ],\n",
    "                           axis=1)\n",
    "\n",
    "opt_results_df.to_excel(\"opt_results.xlsx\")\n",
    "        "
   ]
  }
 ],
 "metadata": {
  "kernelspec": {
   "display_name": "Python 3",
   "language": "python",
   "name": "python3"
  },
  "language_info": {
   "codemirror_mode": {
    "name": "ipython",
    "version": 3
   },
   "file_extension": ".py",
   "mimetype": "text/x-python",
   "name": "python",
   "nbconvert_exporter": "python",
   "pygments_lexer": "ipython3",
   "version": "3.10.12"
  }
 },
 "nbformat": 4,
 "nbformat_minor": 2
}
